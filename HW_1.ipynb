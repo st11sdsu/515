{
  "nbformat": 4,
  "nbformat_minor": 0,
  "metadata": {
    "colab": {
      "provenance": [],
      "authorship_tag": "ABX9TyMd8unZ+vB56ucOJk/X4DpY",
      "include_colab_link": true
    },
    "kernelspec": {
      "name": "python3",
      "display_name": "Python 3"
    },
    "language_info": {
      "name": "python"
    }
  },
  "cells": [
    {
      "cell_type": "markdown",
      "metadata": {
        "id": "view-in-github",
        "colab_type": "text"
      },
      "source": [
        "<a href=\"https://colab.research.google.com/github/st11sdsu/515/blob/main/HW_1.ipynb\" target=\"_parent\"><img src=\"https://colab.research.google.com/assets/colab-badge.svg\" alt=\"Open In Colab\"/></a>"
      ]
    },
    {
      "cell_type": "code",
      "source": [
        "import matplotlib.pyplot as plt\n",
        "import pandas as pd\n",
        "\n",
        "file = input()\n",
        "\n",
        "# TODO: Read in the CSV file as a dataframe\n",
        "df = pd.read_csv(file)\n",
        "\n",
        "# TODO: Print the average of flight delays and flight cancellations\n",
        "avg_delays = df[\"Delayed\"].mean()\n",
        "avg_cancellations = df[\"Cancelled\"].mean()\n",
        "\n",
        "print(f\"Average delays: {avg_delays:.2f}\")\n",
        "print(f\"Average cancellations: {avg_cancellations:.2f}\")\n",
        "\n",
        "# TODO: Create a lineplot of flight delays vs months\n",
        "plt.plot(df[\"Month\"], df[\"Delayed\"], label=\"Delays\", color=\"blue\")\n",
        "\n",
        "# TODO: In the same figure, create a lineplot of flight cancellations vs months\n",
        "plt.plot(df[\"Month\"], df[\"Cancelled\"], label=\"Cancellations\", color=\"red\")\n",
        "\n",
        "# TODO: Add axis labels, title, and legend\n",
        "plt.xlabel(\"Months\", fontsize=10)\n",
        "plt.ylabel(\"Number of flights\", fontsize=10)\n",
        "plt.title(\"Flight status at LAX\", fontsize=14)\n",
        "plt.legend()\n",
        "\n",
        "# Save figure as output_fig.png\n",
        "plt.savefig('output_fig.png')\n",
        "plt.show()"
      ],
      "metadata": {
        "id": "HCIdUpiL4loU"
      },
      "execution_count": null,
      "outputs": []
    }
  ]
}